{
 "cells": [
  {
   "cell_type": "markdown",
   "metadata": {
    "id": "Xl6nFFfP81g4"
   },
   "source": [
    "### Imports"
   ]
  },
  {
   "cell_type": "code",
   "execution_count": null,
   "metadata": {
    "colab": {
     "base_uri": "https://localhost:8080/"
    },
    "id": "gqrH9AM181g8",
    "outputId": "a57bb241-adc6-4564-af72-6155ef8467e7"
   },
   "outputs": [],
   "source": [
    "# Visual Transformer based off the original publication An Image is Worth 16x16 Words:\n",
    "# https://arxiv.org/pdf/2010.11929\n",
    "\n",
    "# Code is written from tutorial by Ahmad Chalhoub\n",
    "# https://www.youtube.com/watch?v=nZ22Ecg9XCQ&ab_channel=AhmadChalhoub\n",
    "# Andrei Cartera -- Sep 2024\n",
    "\n",
    "#COLAB\n",
    "#https://saturncloud.io/blog/how-to-save-files-from-google-colab-to-google-drive-a-stepbystep-guide/#:~:text=Step-by-Step%20Guide%20to%20Save%20Files%20to%20Google%20Drive,3%20Step%203%3A%20Save%20Files%20to%20Google%20Drive\n",
    "#https://stackoverflow.com/questions/59710439/google-colab-and-google-drive-copy-file-from-colab-to-google-drive\n",
    "#https://stackoverflow.com/questions/63879856/saving-model-state-and-load-in-google-colab\n",
    "#https://medium.com/@ml_kid/how-to-save-our-model-to-google-drive-and-reuse-it-2c1028058cb2\n",
    "\n",
    "\n",
    "#Pytorch Lightning\n",
    "\n",
    "from pathlib import Path\n",
    "import einops\n",
    "from tqdm.notebook import tqdm\n",
    "from torch.utils.data import DataLoader, Subset\n",
    "import torch\n",
    "from torch import nn\n",
    "import torchvision\n",
    "import torch.optim as optim\n",
    "from torchvision.transforms import Compose, Resize, ToTensor, Normalize, RandomHorizontalFlip, RandomCrop\n",
    "\n",
    "# einops tutorial https://www.youtube.com/watch?v=xGy75Pjsqzo\n",
    "\n",
    "\n",
    "print(torch.__version__)"
   ]
  },
  {
   "cell_type": "code",
   "execution_count": null,
   "metadata": {
    "id": "pcnArXkYpuLR"
   },
   "outputs": [],
   "source": [
    "#from google.colab import drive\n",
    "#drive.mount('/content/drive')"
   ]
  },
  {
   "cell_type": "code",
   "execution_count": null,
   "metadata": {
    "id": "J-nd4x-1pkto"
   },
   "outputs": [],
   "source": [
    "!jupyter nbextension enable --py widgetsnbextension"
   ]
  },
  {
   "cell_type": "markdown",
   "metadata": {
    "id": "EXeVn3iL81g_"
   },
   "source": [
    "### Set Hyperparameters of the network and specify device"
   ]
  },
  {
   "cell_type": "code",
   "execution_count": null,
   "metadata": {
    "colab": {
     "base_uri": "https://localhost:8080/"
    },
    "id": "wG-4XZrU81g_",
    "outputId": "3eb59651-6d9a-4715-f485-0f1f1da7bfe9"
   },
   "outputs": [],
   "source": [
    "device = torch.device(\"cuda:0\" if torch.cuda.is_available() else \"cpu\")\n",
    "print(device)\n",
    "\n",
    "patch_size = 16\n",
    "latent_size = 768\n",
    "n_channels = 3\n",
    "num_heads = 12\n",
    "num_encoders = 12\n",
    "dropout = 0.1\n",
    "num_classes = 10\n",
    "size = 224\n",
    "\n",
    "epochs = 10\n",
    "base_lr = 10e-3\n",
    "weight_decay = 0.01\n",
    "batch_size = 25"
   ]
  },
  {
   "cell_type": "code",
   "execution_count": null,
   "metadata": {
    "colab": {
     "base_uri": "https://localhost:8080/"
    },
    "id": "e_cJvNiQ81hA",
    "outputId": "ee2b6a43-d020-4f4b-998b-d813c435e55d"
   },
   "outputs": [],
   "source": [
    "# I resize the input data to 224x224, since that is the training resolution used in the paper.\n",
    "# The mean and std values used to normalize CIFAR10 data is from here: https://github.com/kentaroy47/vision-transformers-cifar10/blob/main/train_cifar10.py\n",
    "import torch.utils\n",
    "\n",
    "\n",
    "transform_training_data = Compose(\n",
    "    [RandomCrop(32, padding=4), Resize((224)), RandomHorizontalFlip(), ToTensor(), Normalize((0.4914, 0.4822, 0.4465), (0.2023, 0.1994, 0.2010))]\n",
    "    )\n",
    "\n",
    "# Load train and test datasets\n",
    "filepath = Path('.')\n",
    "train_data = torchvision.datasets.CIFAR10(\n",
    "    root=filepath, train=True, download=True, transform=transform_training_data)\n",
    "\n",
    "test_data = torchvision.datasets.CIFAR10(\n",
    "  root=filepath, train=False, download=True, transform=transform_training_data)\n",
    "\n",
    "#subset_indices = list(range(200))  # limit size to 200\n",
    "#train_subset = Subset(train_data, subset_indices)\n",
    "#test_subset = Subset(test_data, subset_indices)\n",
    "\n",
    "#trainloader_part = torch.utils.data.DataLoader(train_subset, batch_size=batch_size,shuffle=True)\n",
    "#testloader_part = torch.utils.data.DataLoader(test_subset, batch_size=batch_size, shuffle=False)\n",
    "\n",
    "trainloader = torch.utils.data.DataLoader(train_data, batch_size=batch_size,shuffle=True)\n",
    "testloader = torch.utils.data.DataLoader(test_data, batch_size=batch_size, shuffle=False)\n",
    "\n",
    "classes = ('plane', 'car', 'bird', 'cat', 'deer', 'dog', 'frog', 'horse', 'ship', 'truck')\n"
   ]
  },
  {
   "cell_type": "markdown",
   "metadata": {
    "id": "EtGwGsRg81hA"
   },
   "source": [
    "Code to visualize samples from CIFAR10 dataset. This code is copied from: https://pytorch.org/tutorials/beginner/blitz/cifar10_tutorial.html"
   ]
  },
  {
   "cell_type": "code",
   "execution_count": null,
   "metadata": {
    "colab": {
     "base_uri": "https://localhost:8080/",
     "height": 491
    },
    "id": "djndEKjc81hB",
    "outputId": "2d4b4ab4-151d-4c21-ca0d-24d4fb839689"
   },
   "outputs": [],
   "source": [
    "import matplotlib.pyplot as plt\n",
    "import numpy as np\n",
    "\n",
    "# functions to show an image\n",
    "def imshow(img):\n",
    "    img = img / 2 + 0.5     # unnormalize\n",
    "    npimg = img.numpy()\n",
    "    plt.imshow(np.transpose(npimg, (1, 2, 0)))\n",
    "    plt.show()\n",
    "\n",
    "# get some random training images\n",
    "dataiter = iter(trainloader)\n",
    "images, labels = next(dataiter)\n",
    "\n",
    "# show images\n",
    "imshow(torchvision.utils.make_grid(images))\n",
    "# print labels\n",
    "print(' '.join(f'{classes[labels[j]]:5s}' for j in range(batch_size)))"
   ]
  },
  {
   "cell_type": "markdown",
   "metadata": {
    "id": "DjMIbeRx81hC"
   },
   "source": [
    "### Input Layer"
   ]
  },
  {
   "cell_type": "code",
   "execution_count": null,
   "metadata": {
    "id": "Pi1btMHE81hC"
   },
   "outputs": [],
   "source": [
    "class InputEmbedding(nn.Module):\n",
    "  def __init__(self, patch_size=patch_size, n_channels=n_channels, device=device, latent_size=latent_size, batch_size=batch_size):\n",
    "    super(InputEmbedding, self).__init__()\n",
    "    self.latent_size = latent_size\n",
    "    self.patch_size = patch_size\n",
    "    self.n_channels = n_channels\n",
    "    self.device = device\n",
    "    self.batch_size = batch_size\n",
    "    self.input_size = self.patch_size*self.patch_size*self.n_channels\n",
    "\n",
    "    # Linear projection\n",
    "    self.linearProjection = nn.Linear(self.input_size, self.latent_size)\n",
    "\n",
    "    # Class token\n",
    "    self.class_token = nn.Parameter(torch.randn(self.batch_size, 1, self.latent_size)).to(self.device)\n",
    "\n",
    "    # Positional embedding\n",
    "    self.pos_embedding = nn.Parameter(torch.randn(self.batch_size, 1, self.latent_size)).to(self.device)\n",
    "\n",
    "  def forward(self, input_data):\n",
    "    input_data = input_data.to(self.device)\n",
    "\n",
    "\n",
    "    # Patchify input image\n",
    "    patches = einops.rearrange(\n",
    "      ## einops \"(a b)\" normally multiplies, since h is already 224, (h, h1) divides h by h1\n",
    "      input_data, 'b c (h h1) (w w1) -> b (h w) (h1 w1 c)', h1=self.patch_size, w1=self.patch_size\n",
    "    )\n",
    "\n",
    "    #print(input_data.size())\n",
    "    #print(patches.size())\n",
    "    #print(input_data.shape)\n",
    "    #print(patches.shape)\n",
    "\n",
    "    #TODO Rewatch this part https://youtu.be/nZ22Ecg9XCQ?t=1282\n",
    "\n",
    "    linear_projection = self.linearProjection(patches).to(self.device)\n",
    "    b, n, _ = linear_projection.shape\n",
    "    linear_projection = torch.cat((self.class_token, linear_projection), dim=1)\n",
    "    pos_embed = einops.repeat(self.pos_embedding, 'b 1 d -> b m d', m=n+1)\n",
    "\n",
    "    linear_projection += pos_embed\n",
    "\n",
    "    return linear_projection\n"
   ]
  },
  {
   "cell_type": "code",
   "execution_count": null,
   "metadata": {
    "id": "ct2NfSax81hC"
   },
   "outputs": [],
   "source": [
    "test_input = torch.randn(batch_size, 3, 224, 224)\n",
    "test_class = InputEmbedding().to(device)\n",
    "embed_test = test_class(test_input)"
   ]
  },
  {
   "cell_type": "markdown",
   "metadata": {
    "id": "qvVjBhxT81hD"
   },
   "source": [
    "### Implementation of Encoder Block"
   ]
  },
  {
   "cell_type": "code",
   "execution_count": null,
   "metadata": {
    "id": "dRhjzoja81hD"
   },
   "outputs": [],
   "source": [
    "class EncoderBlock(nn.Module):\n",
    "  def __init__(self, latent_size=latent_size, num_heads=num_heads, device=device, dropout=dropout):\n",
    "    super(EncoderBlock, self).__init__()\n",
    "\n",
    "    self.latent_size = latent_size\n",
    "    self.num_heads = num_heads\n",
    "    self.device = device\n",
    "    self.dropout = dropout\n",
    "\n",
    "    #Normmalization layer\n",
    "    self.norm = nn.LayerNorm(self.latent_size)\n",
    "\n",
    "    self.multihead = nn.MultiheadAttention(\n",
    "        self.latent_size, self.num_heads, dropout=self.dropout\n",
    "    )\n",
    "\n",
    "    self.enc_MLP = nn.Sequential(\n",
    "      nn.Linear(self.latent_size, self.latent_size*4),\n",
    "      nn.GELU(),\n",
    "      nn.Dropout(self.dropout),\n",
    "      nn.Linear(self.latent_size*4, latent_size),\n",
    "      nn.Dropout(self.dropout)\n",
    "    )\n",
    "\n",
    "  def forward(self, embedded_patches) :\n",
    "    firstnorm_out = self.norm(embedded_patches)\n",
    "    attention_out = self.multihead(firstnorm_out, firstnorm_out, firstnorm_out)[0]\n",
    "\n",
    "    #first residual connection\n",
    "    first_added = attention_out + embedded_patches\n",
    "\n",
    "    secondnorm_out = self.norm(first_added)\n",
    "    ff_out = self.enc_MLP(secondnorm_out)\n",
    "\n",
    "    #print('embed: ', embedded_patches.size())\n",
    "    #print('output: ', output.size())\n",
    "\n",
    "    return ff_out + first_added\n",
    "\n"
   ]
  },
  {
   "cell_type": "code",
   "execution_count": null,
   "metadata": {
    "id": "UqGemu8H81hD"
   },
   "outputs": [],
   "source": [
    "#test_encoder = EncoderBlock().to(device)\n",
    "#test_encoder(embed_test)"
   ]
  },
  {
   "cell_type": "markdown",
   "metadata": {
    "id": "NsFPV9Yl81hD"
   },
   "source": [
    "### Put Everything Together"
   ]
  },
  {
   "cell_type": "code",
   "execution_count": null,
   "metadata": {
    "id": "HJ1pgoxQ81hD"
   },
   "outputs": [],
   "source": [
    "class ViT(nn.Module):\n",
    "  def __init__(self, num_encoders=num_encoders, latent_size=latent_size, device=device, num_classes=num_classes, dropout=dropout):\n",
    "    super(ViT, self).__init__()\n",
    "\n",
    "    self.num_encoders=num_encoders\n",
    "    self.latent_size=latent_size\n",
    "    self.device=device\n",
    "    self.num_classes=num_classes\n",
    "    self.dropout=dropout\n",
    "\n",
    "    self.embedding = InputEmbedding()\n",
    "\n",
    "    #Create Stack of Encoders\n",
    "    self.encStack = nn.ModuleList([EncoderBlock() for i in  range(self.num_encoders)])\n",
    "\n",
    "    self.MLP_head = nn.Sequential(\n",
    "      nn.LayerNorm(self.latent_size),\n",
    "      nn.Linear(self.latent_size, self.latent_size),\n",
    "      nn.Linear(self.latent_size, self.num_classes)\n",
    "    )\n",
    "\n",
    "  def forward(self, input):\n",
    "    enc_output = self.embedding(input)\n",
    "\n",
    "    for enc_layer in self.encStack:\n",
    "      enc_output = enc_layer(enc_output)\n",
    "\n",
    "    cls_token_embed = enc_output[:, 0]\n",
    "\n",
    "    return self.MLP_head(cls_token_embed)\n"
   ]
  },
  {
   "cell_type": "code",
   "execution_count": null,
   "metadata": {
    "id": "-NiEaqLv81hE"
   },
   "outputs": [],
   "source": [
    "#model = ViT().to(device)\n",
    "#vit_output = model(test_input)\n",
    "#print(vit_output)\n",
    "#print(vit_output.size())"
   ]
  },
  {
   "cell_type": "code",
   "execution_count": null,
   "metadata": {
    "id": "UClZcqpM81hE"
   },
   "outputs": [],
   "source": [
    "#def evaluation(data, model):\n",
    "#    total, correct = 0, 0\n",
    "#    for images, labels in data:\n",
    "#        images = images.to(device)\n",
    "#        ypred = model.forward(images)\n",
    "#        _, predicted = torch.max(ypred.data, 1)\n",
    "#        total += labels.size(0)\n",
    "#        correct += (predicted == labels.to(device)).sum().item()\n",
    "#    return 100 * correct / total\n",
    "\n"
   ]
  },
  {
   "cell_type": "code",
   "execution_count": null,
   "metadata": {
    "id": "xkiLxCc1pktq"
   },
   "outputs": [],
   "source": [
    "def validate_model(model, dataloader, criterion, device):\n",
    "  model.eval()  # Set model to evaluation mode\n",
    "  running_loss = 0.0\n",
    "  correct_predictions = 0\n",
    "  total_samples = 0\n",
    "\n",
    "  with torch.no_grad():  # Disable gradient calculation\n",
    "    for inputs, labels in dataloader:\n",
    "      inputs, labels = inputs.to(device), labels.to(device)\n",
    "\n",
    "      outputs = model(inputs)\n",
    "      loss = criterion(outputs, labels)\n",
    "      running_loss += loss.item() * inputs.size(0)\n",
    "\n",
    "      _, predicted = torch.max(outputs, 1)\n",
    "      correct_predictions += (predicted == labels).sum().item()\n",
    "      total_samples += labels.size(0)\n",
    "\n",
    "      # Clear cache to free up memory\n",
    "      torch.cuda.empty_cache()\n",
    "\n",
    "  avg_loss = running_loss / total_samples\n",
    "  accuracy = correct_predictions / total_samples\n",
    "  return avg_loss, accuracy"
   ]
  },
  {
   "cell_type": "code",
   "execution_count": null,
   "metadata": {
    "id": "xl5k_TllSFor"
   },
   "outputs": [],
   "source": [
    "#from google.colab import drive\n",
    "#drive.mount('/content/gdrive')"
   ]
  },
  {
   "cell_type": "code",
   "execution_count": null,
   "metadata": {},
   "outputs": [],
   "source": [
    "my_model = ViT(num_encoders, latent_size, device, num_classes).to(device)\n",
    "\n",
    "# Betas used for Adam in paper are 0.9 and 0.999, which are the default in PyTorch\n",
    "optimizer = optim.Adam(my_model.parameters(), lr=base_lr, weight_decay=weight_decay)\n",
    "criterion = nn.CrossEntropyLoss()\n",
    "scheduler = optim.lr_scheduler.LinearLR(optimizer)"
   ]
  },
  {
   "cell_type": "code",
   "execution_count": null,
   "metadata": {
    "id": "bK2RIqm681hE"
   },
   "outputs": [],
   "source": [
    "def main():\n",
    "    my_model.train().to(device)\n",
    "\n",
    "    for epoch in tqdm(range(epochs), total=epochs):\n",
    "        running_loss = 0.0\n",
    "        for batch_idx, (inputs, targets) in enumerate(tqdm(trainloader)):\n",
    "\n",
    "            inputs, targets = inputs.to(device), targets.to(device)\n",
    "\n",
    "            optimizer.zero_grad()\n",
    "\n",
    "            outputs = my_model(inputs)\n",
    "\n",
    "            loss = criterion(outputs, targets)\n",
    "\n",
    "            loss.backward()\n",
    "            optimizer.step()\n",
    "\n",
    "            running_loss += loss.item()\n",
    "\n",
    "            if batch_idx % 200 == 0:\n",
    "                print('Batch {} epoch {} has loss = {}'.format(batch_idx, epoch, running_loss/200))\n",
    "                running_loss = 0\n",
    "\n",
    "        scheduler.step()\n",
    "        torch.cuda.empty_cache()\n",
    "    torch.cuda.empty_cache()\n",
    "\n",
    "    torch.save(my_model.state_dict(), 'my_model2.pth')\n",
    "\n",
    "\n",
    "    test_accuracy = validate_model(my_model, testloader, criterion, device)\n",
    "    print(f'Test Accuracy: {test_accuracy}%')\n"
   ]
  },
  {
   "cell_type": "code",
   "execution_count": null,
   "metadata": {
    "colab": {
     "base_uri": "https://localhost:8080/",
     "height": 99,
     "referenced_widgets": [
      "2ea4e6f671964536a16b35ec84e47896",
      "12a7a6a0aede463aa0185e610aca29b2",
      "bf35c420e1124aca8c761eeca30dc089",
      "6394c6338081411aafff2ef1dfcc0143",
      "7ec4337ad4254a5eaf9ef3ee0853cdf5",
      "782e72c0eeb4414986b4fba16f1294ac",
      "1ce647240a7e4ebabb58d2948a62a448",
      "32915ad5eca240a58423e6cddb28c321",
      "f83eab1e8dbc495ca80962229ab21b86",
      "68082557130344c1a413c1c460d3f50d",
      "9dad3101c4934b3985edc4d717e63283",
      "36e215e8456247b2ab0614945aaeed11",
      "15c84e5dc1254dbc988eba92886cd153",
      "4d0f8d6778ee451aab28310878e9ff5f",
      "1dd60de385834d129b6abb44eee57a43",
      "d9ab611aaa374c0fadbf4845e2107203",
      "488c18dad55c4837b177e1b4b9a738d1",
      "b1eec09d7839463c8c8bf421291b2a54",
      "14ed7cdfe7334326871be0876ae2a090",
      "086b3d876c0046c1ab0dbd87421e23f7",
      "30a109fa83fd4b4c8117cdaff1d8fdb7",
      "296061e3f8804f539f46ddb676cd2066"
     ]
    },
    "id": "gBkf5B3Y81hE",
    "outputId": "4e179722-a305-4587-f43d-e5b6f7090e36"
   },
   "outputs": [],
   "source": [
    "if __name__ == \"__main__\":  \n",
    "    main()"
   ]
  }
 ],
 "metadata": {
  "accelerator": "GPU",
  "colab": {
   "gpuType": "T4",
   "provenance": []
  },
  "kernelspec": {
   "display_name": ".venv",
   "language": "python",
   "name": "python3"
  },
  "language_info": {
   "codemirror_mode": {
    "name": "ipython",
    "version": 3
   },
   "file_extension": ".py",
   "mimetype": "text/x-python",
   "name": "python",
   "nbconvert_exporter": "python",
   "pygments_lexer": "ipython3",
   "version": "3.12.7"
  },
  "widgets": {
   "application/vnd.jupyter.widget-state+json": {
    "086b3d876c0046c1ab0dbd87421e23f7": {
     "model_module": "@jupyter-widgets/controls",
     "model_module_version": "1.5.0",
     "model_name": "ProgressStyleModel",
     "state": {
      "_model_module": "@jupyter-widgets/controls",
      "_model_module_version": "1.5.0",
      "_model_name": "ProgressStyleModel",
      "_view_count": null,
      "_view_module": "@jupyter-widgets/base",
      "_view_module_version": "1.2.0",
      "_view_name": "StyleView",
      "bar_color": null,
      "description_width": ""
     }
    },
    "12a7a6a0aede463aa0185e610aca29b2": {
     "model_module": "@jupyter-widgets/controls",
     "model_module_version": "1.5.0",
     "model_name": "HTMLModel",
     "state": {
      "_dom_classes": [],
      "_model_module": "@jupyter-widgets/controls",
      "_model_module_version": "1.5.0",
      "_model_name": "HTMLModel",
      "_view_count": null,
      "_view_module": "@jupyter-widgets/controls",
      "_view_module_version": "1.5.0",
      "_view_name": "HTMLView",
      "description": "",
      "description_tooltip": null,
      "layout": "IPY_MODEL_782e72c0eeb4414986b4fba16f1294ac",
      "placeholder": "​",
      "style": "IPY_MODEL_1ce647240a7e4ebabb58d2948a62a448",
      "value": "  0%"
     }
    },
    "14ed7cdfe7334326871be0876ae2a090": {
     "model_module": "@jupyter-widgets/base",
     "model_module_version": "1.2.0",
     "model_name": "LayoutModel",
     "state": {
      "_model_module": "@jupyter-widgets/base",
      "_model_module_version": "1.2.0",
      "_model_name": "LayoutModel",
      "_view_count": null,
      "_view_module": "@jupyter-widgets/base",
      "_view_module_version": "1.2.0",
      "_view_name": "LayoutView",
      "align_content": null,
      "align_items": null,
      "align_self": null,
      "border": null,
      "bottom": null,
      "display": null,
      "flex": null,
      "flex_flow": null,
      "grid_area": null,
      "grid_auto_columns": null,
      "grid_auto_flow": null,
      "grid_auto_rows": null,
      "grid_column": null,
      "grid_gap": null,
      "grid_row": null,
      "grid_template_areas": null,
      "grid_template_columns": null,
      "grid_template_rows": null,
      "height": null,
      "justify_content": null,
      "justify_items": null,
      "left": null,
      "margin": null,
      "max_height": null,
      "max_width": null,
      "min_height": null,
      "min_width": null,
      "object_fit": null,
      "object_position": null,
      "order": null,
      "overflow": null,
      "overflow_x": null,
      "overflow_y": null,
      "padding": null,
      "right": null,
      "top": null,
      "visibility": null,
      "width": null
     }
    },
    "15c84e5dc1254dbc988eba92886cd153": {
     "model_module": "@jupyter-widgets/controls",
     "model_module_version": "1.5.0",
     "model_name": "HTMLModel",
     "state": {
      "_dom_classes": [],
      "_model_module": "@jupyter-widgets/controls",
      "_model_module_version": "1.5.0",
      "_model_name": "HTMLModel",
      "_view_count": null,
      "_view_module": "@jupyter-widgets/controls",
      "_view_module_version": "1.5.0",
      "_view_name": "HTMLView",
      "description": "",
      "description_tooltip": null,
      "layout": "IPY_MODEL_488c18dad55c4837b177e1b4b9a738d1",
      "placeholder": "​",
      "style": "IPY_MODEL_b1eec09d7839463c8c8bf421291b2a54",
      "value": "  2%"
     }
    },
    "1ce647240a7e4ebabb58d2948a62a448": {
     "model_module": "@jupyter-widgets/controls",
     "model_module_version": "1.5.0",
     "model_name": "DescriptionStyleModel",
     "state": {
      "_model_module": "@jupyter-widgets/controls",
      "_model_module_version": "1.5.0",
      "_model_name": "DescriptionStyleModel",
      "_view_count": null,
      "_view_module": "@jupyter-widgets/base",
      "_view_module_version": "1.2.0",
      "_view_name": "StyleView",
      "description_width": ""
     }
    },
    "1dd60de385834d129b6abb44eee57a43": {
     "model_module": "@jupyter-widgets/controls",
     "model_module_version": "1.5.0",
     "model_name": "HTMLModel",
     "state": {
      "_dom_classes": [],
      "_model_module": "@jupyter-widgets/controls",
      "_model_module_version": "1.5.0",
      "_model_name": "HTMLModel",
      "_view_count": null,
      "_view_module": "@jupyter-widgets/controls",
      "_view_module_version": "1.5.0",
      "_view_name": "HTMLView",
      "description": "",
      "description_tooltip": null,
      "layout": "IPY_MODEL_30a109fa83fd4b4c8117cdaff1d8fdb7",
      "placeholder": "​",
      "style": "IPY_MODEL_296061e3f8804f539f46ddb676cd2066",
      "value": " 25/1000 [00:37&lt;25:11,  1.55s/it]"
     }
    },
    "296061e3f8804f539f46ddb676cd2066": {
     "model_module": "@jupyter-widgets/controls",
     "model_module_version": "1.5.0",
     "model_name": "DescriptionStyleModel",
     "state": {
      "_model_module": "@jupyter-widgets/controls",
      "_model_module_version": "1.5.0",
      "_model_name": "DescriptionStyleModel",
      "_view_count": null,
      "_view_module": "@jupyter-widgets/base",
      "_view_module_version": "1.2.0",
      "_view_name": "StyleView",
      "description_width": ""
     }
    },
    "2ea4e6f671964536a16b35ec84e47896": {
     "model_module": "@jupyter-widgets/controls",
     "model_module_version": "1.5.0",
     "model_name": "HBoxModel",
     "state": {
      "_dom_classes": [],
      "_model_module": "@jupyter-widgets/controls",
      "_model_module_version": "1.5.0",
      "_model_name": "HBoxModel",
      "_view_count": null,
      "_view_module": "@jupyter-widgets/controls",
      "_view_module_version": "1.5.0",
      "_view_name": "HBoxView",
      "box_style": "",
      "children": [
       "IPY_MODEL_12a7a6a0aede463aa0185e610aca29b2",
       "IPY_MODEL_bf35c420e1124aca8c761eeca30dc089",
       "IPY_MODEL_6394c6338081411aafff2ef1dfcc0143"
      ],
      "layout": "IPY_MODEL_7ec4337ad4254a5eaf9ef3ee0853cdf5"
     }
    },
    "30a109fa83fd4b4c8117cdaff1d8fdb7": {
     "model_module": "@jupyter-widgets/base",
     "model_module_version": "1.2.0",
     "model_name": "LayoutModel",
     "state": {
      "_model_module": "@jupyter-widgets/base",
      "_model_module_version": "1.2.0",
      "_model_name": "LayoutModel",
      "_view_count": null,
      "_view_module": "@jupyter-widgets/base",
      "_view_module_version": "1.2.0",
      "_view_name": "LayoutView",
      "align_content": null,
      "align_items": null,
      "align_self": null,
      "border": null,
      "bottom": null,
      "display": null,
      "flex": null,
      "flex_flow": null,
      "grid_area": null,
      "grid_auto_columns": null,
      "grid_auto_flow": null,
      "grid_auto_rows": null,
      "grid_column": null,
      "grid_gap": null,
      "grid_row": null,
      "grid_template_areas": null,
      "grid_template_columns": null,
      "grid_template_rows": null,
      "height": null,
      "justify_content": null,
      "justify_items": null,
      "left": null,
      "margin": null,
      "max_height": null,
      "max_width": null,
      "min_height": null,
      "min_width": null,
      "object_fit": null,
      "object_position": null,
      "order": null,
      "overflow": null,
      "overflow_x": null,
      "overflow_y": null,
      "padding": null,
      "right": null,
      "top": null,
      "visibility": null,
      "width": null
     }
    },
    "32915ad5eca240a58423e6cddb28c321": {
     "model_module": "@jupyter-widgets/base",
     "model_module_version": "1.2.0",
     "model_name": "LayoutModel",
     "state": {
      "_model_module": "@jupyter-widgets/base",
      "_model_module_version": "1.2.0",
      "_model_name": "LayoutModel",
      "_view_count": null,
      "_view_module": "@jupyter-widgets/base",
      "_view_module_version": "1.2.0",
      "_view_name": "LayoutView",
      "align_content": null,
      "align_items": null,
      "align_self": null,
      "border": null,
      "bottom": null,
      "display": null,
      "flex": null,
      "flex_flow": null,
      "grid_area": null,
      "grid_auto_columns": null,
      "grid_auto_flow": null,
      "grid_auto_rows": null,
      "grid_column": null,
      "grid_gap": null,
      "grid_row": null,
      "grid_template_areas": null,
      "grid_template_columns": null,
      "grid_template_rows": null,
      "height": null,
      "justify_content": null,
      "justify_items": null,
      "left": null,
      "margin": null,
      "max_height": null,
      "max_width": null,
      "min_height": null,
      "min_width": null,
      "object_fit": null,
      "object_position": null,
      "order": null,
      "overflow": null,
      "overflow_x": null,
      "overflow_y": null,
      "padding": null,
      "right": null,
      "top": null,
      "visibility": null,
      "width": null
     }
    },
    "36e215e8456247b2ab0614945aaeed11": {
     "model_module": "@jupyter-widgets/controls",
     "model_module_version": "1.5.0",
     "model_name": "HBoxModel",
     "state": {
      "_dom_classes": [],
      "_model_module": "@jupyter-widgets/controls",
      "_model_module_version": "1.5.0",
      "_model_name": "HBoxModel",
      "_view_count": null,
      "_view_module": "@jupyter-widgets/controls",
      "_view_module_version": "1.5.0",
      "_view_name": "HBoxView",
      "box_style": "",
      "children": [
       "IPY_MODEL_15c84e5dc1254dbc988eba92886cd153",
       "IPY_MODEL_4d0f8d6778ee451aab28310878e9ff5f",
       "IPY_MODEL_1dd60de385834d129b6abb44eee57a43"
      ],
      "layout": "IPY_MODEL_d9ab611aaa374c0fadbf4845e2107203"
     }
    },
    "488c18dad55c4837b177e1b4b9a738d1": {
     "model_module": "@jupyter-widgets/base",
     "model_module_version": "1.2.0",
     "model_name": "LayoutModel",
     "state": {
      "_model_module": "@jupyter-widgets/base",
      "_model_module_version": "1.2.0",
      "_model_name": "LayoutModel",
      "_view_count": null,
      "_view_module": "@jupyter-widgets/base",
      "_view_module_version": "1.2.0",
      "_view_name": "LayoutView",
      "align_content": null,
      "align_items": null,
      "align_self": null,
      "border": null,
      "bottom": null,
      "display": null,
      "flex": null,
      "flex_flow": null,
      "grid_area": null,
      "grid_auto_columns": null,
      "grid_auto_flow": null,
      "grid_auto_rows": null,
      "grid_column": null,
      "grid_gap": null,
      "grid_row": null,
      "grid_template_areas": null,
      "grid_template_columns": null,
      "grid_template_rows": null,
      "height": null,
      "justify_content": null,
      "justify_items": null,
      "left": null,
      "margin": null,
      "max_height": null,
      "max_width": null,
      "min_height": null,
      "min_width": null,
      "object_fit": null,
      "object_position": null,
      "order": null,
      "overflow": null,
      "overflow_x": null,
      "overflow_y": null,
      "padding": null,
      "right": null,
      "top": null,
      "visibility": null,
      "width": null
     }
    },
    "4d0f8d6778ee451aab28310878e9ff5f": {
     "model_module": "@jupyter-widgets/controls",
     "model_module_version": "1.5.0",
     "model_name": "FloatProgressModel",
     "state": {
      "_dom_classes": [],
      "_model_module": "@jupyter-widgets/controls",
      "_model_module_version": "1.5.0",
      "_model_name": "FloatProgressModel",
      "_view_count": null,
      "_view_module": "@jupyter-widgets/controls",
      "_view_module_version": "1.5.0",
      "_view_name": "ProgressView",
      "bar_style": "",
      "description": "",
      "description_tooltip": null,
      "layout": "IPY_MODEL_14ed7cdfe7334326871be0876ae2a090",
      "max": 1000,
      "min": 0,
      "orientation": "horizontal",
      "style": "IPY_MODEL_086b3d876c0046c1ab0dbd87421e23f7",
      "value": 25
     }
    },
    "6394c6338081411aafff2ef1dfcc0143": {
     "model_module": "@jupyter-widgets/controls",
     "model_module_version": "1.5.0",
     "model_name": "HTMLModel",
     "state": {
      "_dom_classes": [],
      "_model_module": "@jupyter-widgets/controls",
      "_model_module_version": "1.5.0",
      "_model_name": "HTMLModel",
      "_view_count": null,
      "_view_module": "@jupyter-widgets/controls",
      "_view_module_version": "1.5.0",
      "_view_name": "HTMLView",
      "description": "",
      "description_tooltip": null,
      "layout": "IPY_MODEL_68082557130344c1a413c1c460d3f50d",
      "placeholder": "​",
      "style": "IPY_MODEL_9dad3101c4934b3985edc4d717e63283",
      "value": " 0/10 [00:00&lt;?, ?it/s]"
     }
    },
    "68082557130344c1a413c1c460d3f50d": {
     "model_module": "@jupyter-widgets/base",
     "model_module_version": "1.2.0",
     "model_name": "LayoutModel",
     "state": {
      "_model_module": "@jupyter-widgets/base",
      "_model_module_version": "1.2.0",
      "_model_name": "LayoutModel",
      "_view_count": null,
      "_view_module": "@jupyter-widgets/base",
      "_view_module_version": "1.2.0",
      "_view_name": "LayoutView",
      "align_content": null,
      "align_items": null,
      "align_self": null,
      "border": null,
      "bottom": null,
      "display": null,
      "flex": null,
      "flex_flow": null,
      "grid_area": null,
      "grid_auto_columns": null,
      "grid_auto_flow": null,
      "grid_auto_rows": null,
      "grid_column": null,
      "grid_gap": null,
      "grid_row": null,
      "grid_template_areas": null,
      "grid_template_columns": null,
      "grid_template_rows": null,
      "height": null,
      "justify_content": null,
      "justify_items": null,
      "left": null,
      "margin": null,
      "max_height": null,
      "max_width": null,
      "min_height": null,
      "min_width": null,
      "object_fit": null,
      "object_position": null,
      "order": null,
      "overflow": null,
      "overflow_x": null,
      "overflow_y": null,
      "padding": null,
      "right": null,
      "top": null,
      "visibility": null,
      "width": null
     }
    },
    "782e72c0eeb4414986b4fba16f1294ac": {
     "model_module": "@jupyter-widgets/base",
     "model_module_version": "1.2.0",
     "model_name": "LayoutModel",
     "state": {
      "_model_module": "@jupyter-widgets/base",
      "_model_module_version": "1.2.0",
      "_model_name": "LayoutModel",
      "_view_count": null,
      "_view_module": "@jupyter-widgets/base",
      "_view_module_version": "1.2.0",
      "_view_name": "LayoutView",
      "align_content": null,
      "align_items": null,
      "align_self": null,
      "border": null,
      "bottom": null,
      "display": null,
      "flex": null,
      "flex_flow": null,
      "grid_area": null,
      "grid_auto_columns": null,
      "grid_auto_flow": null,
      "grid_auto_rows": null,
      "grid_column": null,
      "grid_gap": null,
      "grid_row": null,
      "grid_template_areas": null,
      "grid_template_columns": null,
      "grid_template_rows": null,
      "height": null,
      "justify_content": null,
      "justify_items": null,
      "left": null,
      "margin": null,
      "max_height": null,
      "max_width": null,
      "min_height": null,
      "min_width": null,
      "object_fit": null,
      "object_position": null,
      "order": null,
      "overflow": null,
      "overflow_x": null,
      "overflow_y": null,
      "padding": null,
      "right": null,
      "top": null,
      "visibility": null,
      "width": null
     }
    },
    "7ec4337ad4254a5eaf9ef3ee0853cdf5": {
     "model_module": "@jupyter-widgets/base",
     "model_module_version": "1.2.0",
     "model_name": "LayoutModel",
     "state": {
      "_model_module": "@jupyter-widgets/base",
      "_model_module_version": "1.2.0",
      "_model_name": "LayoutModel",
      "_view_count": null,
      "_view_module": "@jupyter-widgets/base",
      "_view_module_version": "1.2.0",
      "_view_name": "LayoutView",
      "align_content": null,
      "align_items": null,
      "align_self": null,
      "border": null,
      "bottom": null,
      "display": null,
      "flex": null,
      "flex_flow": null,
      "grid_area": null,
      "grid_auto_columns": null,
      "grid_auto_flow": null,
      "grid_auto_rows": null,
      "grid_column": null,
      "grid_gap": null,
      "grid_row": null,
      "grid_template_areas": null,
      "grid_template_columns": null,
      "grid_template_rows": null,
      "height": null,
      "justify_content": null,
      "justify_items": null,
      "left": null,
      "margin": null,
      "max_height": null,
      "max_width": null,
      "min_height": null,
      "min_width": null,
      "object_fit": null,
      "object_position": null,
      "order": null,
      "overflow": null,
      "overflow_x": null,
      "overflow_y": null,
      "padding": null,
      "right": null,
      "top": null,
      "visibility": null,
      "width": null
     }
    },
    "9dad3101c4934b3985edc4d717e63283": {
     "model_module": "@jupyter-widgets/controls",
     "model_module_version": "1.5.0",
     "model_name": "DescriptionStyleModel",
     "state": {
      "_model_module": "@jupyter-widgets/controls",
      "_model_module_version": "1.5.0",
      "_model_name": "DescriptionStyleModel",
      "_view_count": null,
      "_view_module": "@jupyter-widgets/base",
      "_view_module_version": "1.2.0",
      "_view_name": "StyleView",
      "description_width": ""
     }
    },
    "b1eec09d7839463c8c8bf421291b2a54": {
     "model_module": "@jupyter-widgets/controls",
     "model_module_version": "1.5.0",
     "model_name": "DescriptionStyleModel",
     "state": {
      "_model_module": "@jupyter-widgets/controls",
      "_model_module_version": "1.5.0",
      "_model_name": "DescriptionStyleModel",
      "_view_count": null,
      "_view_module": "@jupyter-widgets/base",
      "_view_module_version": "1.2.0",
      "_view_name": "StyleView",
      "description_width": ""
     }
    },
    "bf35c420e1124aca8c761eeca30dc089": {
     "model_module": "@jupyter-widgets/controls",
     "model_module_version": "1.5.0",
     "model_name": "FloatProgressModel",
     "state": {
      "_dom_classes": [],
      "_model_module": "@jupyter-widgets/controls",
      "_model_module_version": "1.5.0",
      "_model_name": "FloatProgressModel",
      "_view_count": null,
      "_view_module": "@jupyter-widgets/controls",
      "_view_module_version": "1.5.0",
      "_view_name": "ProgressView",
      "bar_style": "",
      "description": "",
      "description_tooltip": null,
      "layout": "IPY_MODEL_32915ad5eca240a58423e6cddb28c321",
      "max": 10,
      "min": 0,
      "orientation": "horizontal",
      "style": "IPY_MODEL_f83eab1e8dbc495ca80962229ab21b86",
      "value": 0
     }
    },
    "d9ab611aaa374c0fadbf4845e2107203": {
     "model_module": "@jupyter-widgets/base",
     "model_module_version": "1.2.0",
     "model_name": "LayoutModel",
     "state": {
      "_model_module": "@jupyter-widgets/base",
      "_model_module_version": "1.2.0",
      "_model_name": "LayoutModel",
      "_view_count": null,
      "_view_module": "@jupyter-widgets/base",
      "_view_module_version": "1.2.0",
      "_view_name": "LayoutView",
      "align_content": null,
      "align_items": null,
      "align_self": null,
      "border": null,
      "bottom": null,
      "display": null,
      "flex": null,
      "flex_flow": null,
      "grid_area": null,
      "grid_auto_columns": null,
      "grid_auto_flow": null,
      "grid_auto_rows": null,
      "grid_column": null,
      "grid_gap": null,
      "grid_row": null,
      "grid_template_areas": null,
      "grid_template_columns": null,
      "grid_template_rows": null,
      "height": null,
      "justify_content": null,
      "justify_items": null,
      "left": null,
      "margin": null,
      "max_height": null,
      "max_width": null,
      "min_height": null,
      "min_width": null,
      "object_fit": null,
      "object_position": null,
      "order": null,
      "overflow": null,
      "overflow_x": null,
      "overflow_y": null,
      "padding": null,
      "right": null,
      "top": null,
      "visibility": null,
      "width": null
     }
    },
    "f83eab1e8dbc495ca80962229ab21b86": {
     "model_module": "@jupyter-widgets/controls",
     "model_module_version": "1.5.0",
     "model_name": "ProgressStyleModel",
     "state": {
      "_model_module": "@jupyter-widgets/controls",
      "_model_module_version": "1.5.0",
      "_model_name": "ProgressStyleModel",
      "_view_count": null,
      "_view_module": "@jupyter-widgets/base",
      "_view_module_version": "1.2.0",
      "_view_name": "StyleView",
      "bar_color": null,
      "description_width": ""
     }
    }
   }
  }
 },
 "nbformat": 4,
 "nbformat_minor": 0
}
